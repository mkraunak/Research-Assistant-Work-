{
 "cells": [
  {
   "cell_type": "markdown",
   "metadata": {},
   "source": [
    "# LightGBM Predictor"
   ]
  },
  {
   "cell_type": "code",
   "execution_count": 1,
   "metadata": {},
   "outputs": [],
   "source": [
    "import numpy as np\n",
    "import pandas as pd\n",
    "import matplotlib.pyplot as plt\n",
    "import seaborn as sns\n",
    "\n",
    "sns.set()\n",
    "''\n",
    "import gc\n",
    "import math"
   ]
  },
  {
   "cell_type": "markdown",
   "metadata": {},
   "source": [
    "## Load and downcast data"
   ]
  },
  {
   "cell_type": "code",
   "execution_count": 2,
   "metadata": {},
   "outputs": [],
   "source": [
    "def downcast_dtypes(df):\n",
    "    '''\n",
    "        Changes column types in the dataframe: \n",
    "                \n",
    "                `float64` type to `float32`\n",
    "                `int64`   type to `int32`\n",
    "    '''\n",
    "    # Select columns to downcast\n",
    "    float_cols = [c for c in df if df[c].dtype == \"float64\"]\n",
    "    int_cols =   [c for c in df if df[c].dtype == \"int64\"]\n",
    "    \n",
    "    # Downcast\n",
    "    df[float_cols] = df[float_cols].astype(np.float32)\n",
    "    df[int_cols]   = df[int_cols].astype(np.int32)\n",
    "    \n",
    "    if df.loc[:, 'device'].dtype != 'int16':\n",
    "        df.loc[:, 'device'] = df.loc[:, 'device'].astype(np.int16)\n",
    "    if df.loc[:, 'os'].dtype != 'int16':\n",
    "        df.loc[:, 'os'] = df.loc[:, 'os'].astype(np.int16)\n",
    "    if df.loc[:, 'channel'].dtype != 'int16':\n",
    "        df.loc[:, 'channel'] = df.loc[:, 'channel'].astype(np.int16)\n",
    "    if 'is_attributed' in df.columns:\n",
    "        df.loc[:, 'is_attributed'] = df.loc[:, 'is_attributed'].astype(np.int8)\n",
    "    \n",
    "    if 'day' in df.columns and df.loc[:, 'day'].dtype != 'int8':\n",
    "        df.loc[:, 'day'] = df.loc[:, 'day'].astype(np.int8)\n",
    "    \n",
    "    return df"
   ]
  },
  {
   "cell_type": "code",
   "execution_count": 3,
   "metadata": {},
   "outputs": [],
   "source": [
    "def to_drop(df):\n",
    "    df.drop([c for c in df if 'target_mean' in c or 'nextClick' in c or 'timeframe' in c],\n",
    "            axis=1, inplace=True)\n",
    "    return df"
   ]
  },
  {
   "cell_type": "code",
   "execution_count": 4,
   "metadata": {},
   "outputs": [
    {
     "name": "stdout",
     "output_type": "stream",
     "text": [
      "Loaded df_train_chunk0\n",
      "Loaded df_train_chunk1\n",
      "Loaded df_train_chunk2\n",
      "Loaded df_train_chunk3\n",
      "Loaded df_train_chunk4\n",
      "Loaded df_train_chunk5\n",
      "Loaded df_train_chunk6\n",
      "Loaded df_train_chunk7\n",
      "Loaded df_train_chunk8\n",
      "Loaded df_train_chunk9\n",
      "Finished df_train, shape: (179903890, 36)\n",
      "Loaded df_valid\n",
      "Finished df_valid, shape: (5000000, 36)\n",
      "Loaded df_test\n",
      "Finished df_test, shape (18790469, 36)\n"
     ]
    }
   ],
   "source": [
    "b_include_test = True\n",
    "n_chunks = 10\n",
    "\n",
    "with pd.HDFStore('instance-1/home/klauke_peter/store_enc_chunks.h5',  mode='r') as store:\n",
    "    for n in range(n_chunks):\n",
    "        df_train_chunk = store.select('df_train_chunk{}'.format(n))\n",
    "        df_train_chunk = to_drop(df_train_chunk)\n",
    "        print('Loaded df_train_chunk{}'.format(n))\n",
    "        \n",
    "        df_train_chunk = downcast_dtypes(df_train_chunk)\n",
    "        if n == 0:\n",
    "            df_train = df_train_chunk\n",
    "        else:\n",
    "            df_train = pd.concat([df_train, df_train_chunk])\n",
    "        del df_train_chunk\n",
    "        gc.collect()\n",
    "        \n",
    "    print('Finished df_train, shape:', df_train.shape)\n",
    "    \n",
    "    df_valid =  downcast_dtypes(store.select('df_valid'))\n",
    "    df_valid = to_drop(df_valid)\n",
    "    print('Loaded df_valid')\n",
    "    df_valid = downcast_dtypes(df_valid)\n",
    "    print('Finished df_valid, shape:', df_valid.shape)\n",
    "    \n",
    "    if b_include_test:\n",
    "        df_test =  downcast_dtypes(store.select('df_test'))\n",
    "        df_test = to_drop(df_test)\n",
    "        print('Loaded df_test')\n",
    "        df_test = downcast_dtypes(df_test)\n",
    "        print('Finished df_test, shape', df_test.shape)"
   ]
  },
  {
   "cell_type": "markdown",
   "metadata": {},
   "source": [
    "## Time-based split between training and validation\n",
    "\n",
    "Create a time-based split between training and validation for proper validation during feature selection and hyperparameter tuning. If there would've been time left in the competition the complete training data (including validation data) should've been used for the final submission."
   ]
  },
  {
   "cell_type": "code",
   "execution_count": 5,
   "metadata": {},
   "outputs": [],
   "source": [
    "split_date = pd.Timestamp(year=2017, month=11, day=9, hour=5) # hour=4\n",
    "\n",
    "df_train = df_train.loc[df_train.click_time < split_date, :]"
   ]
  },
  {
   "cell_type": "code",
   "execution_count": 6,
   "metadata": {},
   "outputs": [
    {
     "name": "stdout",
     "output_type": "stream",
     "text": [
      "train shape:  (148239045, 36)\n",
      "valid shape:  (2327952, 36)\n"
     ]
    }
   ],
   "source": [
    "df_valid = df_valid.loc[ ((df_valid.minute_of_day > 295) & (df_valid.minute_of_day < 365))\n",
    "                       | ((df_valid.minute_of_day > 535) & (df_valid.minute_of_day < 665))\n",
    "                       | ((df_valid.minute_of_day > 770) & (df_valid.minute_of_day < 905))]\n",
    "\n",
    "gc.collect()\n",
    "\n",
    "print('train shape: ', df_train.shape)\n",
    "print('valid shape: ', df_valid.shape)"
   ]
  },
  {
   "cell_type": "code",
   "execution_count": 7,
   "metadata": {},
   "outputs": [
    {
     "name": "stderr",
     "output_type": "stream",
     "text": [
      "/home/klauke_peter/.local/lib/python3.5/site-packages/pandas/core/computation/check.py:17: UserWarning: The installed version of numexpr 2.4.3 is not supported in pandas and will be not be used\n",
      "The minimum supported version is 2.4.6\n",
      "\n",
      "  ver=ver, min_ver=_MIN_NUMEXPR_VERSION), UserWarning)\n",
      "/home/klauke_peter/.local/lib/python3.5/site-packages/matplotlib/axes/_axes.py:6462: UserWarning: The 'normed' kwarg is deprecated, and has been replaced by the 'density' kwarg.\n",
      "  warnings.warn(\"The 'normed' kwarg is deprecated, and has been \"\n"
     ]
    },
    {
     "data": {
      "image/png": "[encoded data removed]",
      "text/plain": [
       "<Figure size 1008x432 with 1 Axes>"
      ]
     },
     "metadata": {},
     "output_type": "display_data"
    }
   ],
   "source": [
    "plt.figure(figsize=(14, 6))\n",
    "\n",
    "plt.hist(df_train.click_time.dt.hour*60 + df_train.click_time.dt.minute, bins=(24*60)//10, normed=True, alpha=0.7, label='train')\n",
    "plt.hist(df_valid.click_time.dt.hour*60 + df_valid.click_time.dt.minute, bins=(24*60)//10, normed=True, alpha=0.7, label='valid')\n",
    "if b_include_test:\n",
    "    plt.hist(df_test.click_time.dt.hour*60 + df_test.click_time.dt.minute, bins=(24*60)//10, normed=True, alpha=0.7, label='test')\n",
    "\n",
    "plt.legend()\n",
    "plt.xticks(range(0, 60*24, 60))\n",
    "\n",
    "plt.show()"
   ]
  },
  {
   "cell_type": "markdown",
   "metadata": {},
   "source": [
    "## Modelling"
   ]
  },
  {
   "cell_type": "code",
   "execution_count": 6,
   "metadata": {},
   "outputs": [],
   "source": [
    "from sklearn.metrics import roc_auc_score\n",
    "import lightgbm\n",
    "\n",
    "lgb_features_cat = ['app', 'os', 'channel', 'device', 'hour', 'day']\n",
    "\n",
    "lgb_features = lgb_features_cat\n",
    "lgb_features += [\n",
    "                    'next_click', 'next_click_shift',\n",
    "                    'app_nunique_gby_ip', 'app_nunique_gby_ip_device_os',\n",
    "                    'channel_count_gby_ip_app', 'channel_count_gby_ip_app_os',\n",
    "                    'channel_count_gby_ip_day_hour', 'channel_nunique_gby_app',\n",
    "                    'channel_nunique_gby_ip', 'day_var_gby_ip_app_channel', 'device_nunique_gby_ip',\n",
    "                    'hour_mean_gby_ip_app_channel', 'hour_nunique_gby_ip_day',\n",
    "                    'hour_var_gby_ip_app_os', 'hour_var_gby_ip_day_channel',\n",
    "                    'os_count_gby_ip', 'os_nunique_gby_ip_app',\n",
    "                    'app_cumcount_gby_ip_device_os', 'os_cumcount_gby_ip'\n",
    "                ]"
   ]
  },
  {
   "cell_type": "code",
   "execution_count": null,
   "metadata": {},
   "outputs": [],
   "source": [
    "df_train = df_train.loc[:, lgb_features+['is_attributed']]\n",
    "gc.collect()"
   ]
  },
  {
   "cell_type": "code",
   "execution_count": null,
   "metadata": {},
   "outputs": [],
   "source": [
    "from sklearn.metrics import roc_auc_score\n",
    "import lightgbm\n",
    "\n",
    "n_trees = 4000\n",
    "\n",
    "lgb_train_set = lightgbm.Dataset(df_train.loc[:, lgb_features], label=df_train.loc[:, 'is_attributed'])\n",
    "lgb_valid_set = lightgbm.Dataset(df_valid.loc[:, lgb_features], label=df_valid.loc[:, 'is_attributed'])\n",
    "\n",
    "seed = 4\n",
    "\n",
    "params_lgb = {'objective': 'binary', 'metric': 'AUC', 'boosting': 'gbdt', 'learning_rate': 0.2,\n",
    "              'verbose': 0, 'num_leaves': 15, 'bagging_fraction': 0.7, 'bagging_freq': 1, 'bagging_seed': seed,\n",
    "              'feature_fraction': 0.9, 'feature_fraction_seed': seed, 'max_bin': 32,\n",
    "              'min_data_in_leaf': 50, 'seed': seed, 'lambda_l1': 0, 'lambda_l2': 0,\n",
    "              'scale_pos_weight': 200, 'two_round': True, 'max_depth': 3, 'min_sum_hessian_in_leaf': 500}\n",
    "\n",
    "lgb = lightgbm.train(params_lgb, \n",
    "                     train_set=lgb_train_set,\n",
    "                     num_boost_round=n_trees,\n",
    "                     valid_sets=[lgb_train_set, lgb_valid_set], valid_names=['train', 'valid'],\n",
    "                     fobj=None, feval=None, init_model=None,\n",
    "                     feature_name='auto', categorical_feature='auto', \n",
    "                     early_stopping_rounds=100, evals_result=None, verbose_eval=10, learning_rates=None, \n",
    "                     keep_training_booster=False, callbacks=None)\n",
    "\n",
    "del lgb_train_set, lgb_valid_set\n",
    "gc.collect()"
   ]
  },
  {
   "cell_type": "code",
   "execution_count": null,
   "metadata": {},
   "outputs": [],
   "source": [
    "import pickle\n",
    " \n",
    "pickle.dump(lgb,  open( 'lgb_le0.2_allchunks_{}.pkl'.format(seed), 'wb' ) )"
   ]
  },
  {
   "cell_type": "code",
   "execution_count": null,
   "metadata": {},
   "outputs": [],
   "source": [
    "fig = plt.figure(figsize=(10, 6))\n",
    "\n",
    "feature_importance = lgb.feature_importance()\n",
    "sorted_idx = np.argsort(feature_importance)\n",
    "\n",
    "plt.barh(range(len(sorted_idx)), feature_importance[sorted_idx], align='center')\n",
    "plt.yticks(range(len(sorted_idx)), np.array(lgb_features)[sorted_idx])\n",
    "plt.xlabel('Importance')\n",
    "plt.title('Feature importance')\n",
    "plt.draw()\n",
    "plt.show()"
   ]
  },
  {
   "cell_type": "code",
   "execution_count": null,
   "metadata": {},
   "outputs": [],
   "source": [
    "preds_test = lgb.predict(df_test.loc[:, lgb_features])"
   ]
  },
  {
   "cell_type": "markdown",
   "metadata": {},
   "source": [
    "## Save predictions for ensembling"
   ]
  },
  {
   "cell_type": "code",
   "execution_count": null,
   "metadata": {},
   "outputs": [],
   "source": [
    "file_suffix = seed\n",
    "assert file_suffix != '', \"What is my name?\"\n",
    "\n",
    "df_test.loc[:, 'prediction']  = preds_test\n",
    "df_test.loc[:, 'prediction'] = df_test.loc[:, 'prediction'].astype(np.float32)\n",
    "df_test.loc[:, ['prediction']].to_csv('predictions_test_{}.csv'.format(file_suffix))\n",
    "\n",
    "print('Valid AUC: {:0.5f}'.format(roc_auc_score(df_valid.loc[:, 'is_attributed'], preds_valid)))\n",
    "df_valid.loc[:, 'prediction'] = preds_valid\n",
    "df_valid.loc[:, 'prediction'] = df_valid.loc[:, 'prediction'].astype(np.float32)\n",
    "df_valid.loc[:, ['prediction']].to_csv('predictions_valid_{}.csv'.format(file_suffix))"
   ]
  },
  {
   "cell_type": "markdown",
   "metadata": {},
   "source": [
    "# Submit single model"
   ]
  },
  {
   "cell_type": "code",
   "execution_count": 19,
   "metadata": {},
   "outputs": [
    {
     "data": {
      "text/html": [
       "<div>\n",
       "<style scoped>\n",
       "    .dataframe tbody tr th:only-of-type {\n",
       "        vertical-align: middle;\n",
       "    }\n",
       "\n",
       "    .dataframe tbody tr th {\n",
       "        vertical-align: top;\n",
       "    }\n",
       "\n",
       "    .dataframe thead th {\n",
       "        text-align: right;\n",
       "    }\n",
       "</style>\n",
       "<table border=\"1\" class=\"dataframe\">\n",
       "  <thead>\n",
       "    <tr style=\"text-align: right;\">\n",
       "      <th></th>\n",
       "      <th>click_id</th>\n",
       "      <th>is_attributed</th>\n",
       "    </tr>\n",
       "  </thead>\n",
       "  <tbody>\n",
       "    <tr>\n",
       "      <th>0</th>\n",
       "      <td>0</td>\n",
       "      <td>0</td>\n",
       "    </tr>\n",
       "    <tr>\n",
       "      <th>1</th>\n",
       "      <td>1</td>\n",
       "      <td>0</td>\n",
       "    </tr>\n",
       "  </tbody>\n",
       "</table>\n",
       "</div>"
      ],
      "text/plain": [
       "   click_id  is_attributed\n",
       "0         0              0\n",
       "1         1              0"
      ]
     },
     "execution_count": 19,
     "metadata": {},
     "output_type": "execute_result"
    }
   ],
   "source": [
    "df_submission = pd.read_csv('instance-1/home/klauke_peter/.kaggle/competitions/talkingdata-adtracking-fraud-detection/sample_submission.csv.zip')\n",
    "df_submission.head(n=2)"
   ]
  },
  {
   "cell_type": "code",
   "execution_count": 20,
   "metadata": {},
   "outputs": [
    {
     "data": {
      "text/html": [
       "<div>\n",
       "<style scoped>\n",
       "    .dataframe tbody tr th:only-of-type {\n",
       "        vertical-align: middle;\n",
       "    }\n",
       "\n",
       "    .dataframe tbody tr th {\n",
       "        vertical-align: top;\n",
       "    }\n",
       "\n",
       "    .dataframe thead th {\n",
       "        text-align: right;\n",
       "    }\n",
       "</style>\n",
       "<table border=\"1\" class=\"dataframe\">\n",
       "  <thead>\n",
       "    <tr style=\"text-align: right;\">\n",
       "      <th></th>\n",
       "      <th>click_id</th>\n",
       "      <th>is_attributed</th>\n",
       "    </tr>\n",
       "  </thead>\n",
       "  <tbody>\n",
       "    <tr>\n",
       "      <th>0</th>\n",
       "      <td>0</td>\n",
       "      <td>0.077275</td>\n",
       "    </tr>\n",
       "    <tr>\n",
       "      <th>1</th>\n",
       "      <td>1</td>\n",
       "      <td>0.017600</td>\n",
       "    </tr>\n",
       "    <tr>\n",
       "      <th>2</th>\n",
       "      <td>2</td>\n",
       "      <td>0.001230</td>\n",
       "    </tr>\n",
       "    <tr>\n",
       "      <th>3</th>\n",
       "      <td>3</td>\n",
       "      <td>0.031964</td>\n",
       "    </tr>\n",
       "    <tr>\n",
       "      <th>4</th>\n",
       "      <td>4</td>\n",
       "      <td>0.019336</td>\n",
       "    </tr>\n",
       "  </tbody>\n",
       "</table>\n",
       "</div>"
      ],
      "text/plain": [
       "   click_id  is_attributed\n",
       "0         0       0.077275\n",
       "1         1       0.017600\n",
       "2         2       0.001230\n",
       "3         3       0.031964\n",
       "4         4       0.019336"
      ]
     },
     "execution_count": 20,
     "metadata": {},
     "output_type": "execute_result"
    }
   ],
   "source": [
    "df_submission.loc[:, 'is_attributed'] = preds_test\n",
    "df_submission.to_csv('submission.csv.gz', index = False, compression = 'gzip', float_format='%.8f')\n",
    "\n",
    "df_submission.head()"
   ]
  },
  {
   "cell_type": "code",
   "execution_count": 21,
   "metadata": {},
   "outputs": [
    {
     "data": {
      "text/plain": [
       "0"
      ]
     },
     "execution_count": 21,
     "metadata": {},
     "output_type": "execute_result"
    }
   ],
   "source": [
    "import os\n",
    "\n",
    "subname = 'lgb' + str(seed)\n",
    "os.system('kaggle competitions submit -c talkingdata-adtracking-fraud-detection -f submission.csv.gz -m \"{}\"'.format(subname))"
   ]
  }
 ],
 "metadata": {
  "kernelspec": {
   "display_name": "Python 3",
   "language": "python",
   "name": "python3"
  },
  "language_info": {
   "codemirror_mode": {
    "name": "ipython",
    "version": 3
   },
   "file_extension": ".py",
   "mimetype": "text/x-python",
   "name": "python",
   "nbconvert_exporter": "python",
   "pygments_lexer": "ipython3",
   "version": "3.6.8"
  }
 },
 "nbformat": 4,
 "nbformat_minor": 2
}
